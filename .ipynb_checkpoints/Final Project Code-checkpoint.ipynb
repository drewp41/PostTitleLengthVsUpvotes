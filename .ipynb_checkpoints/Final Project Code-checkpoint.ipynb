{
 "cells": [
  {
   "cell_type": "code",
   "execution_count": 15,
   "metadata": {},
   "outputs": [
    {
     "data": {
      "text/html": [
       "<div>\n",
       "<style scoped>\n",
       "    .dataframe tbody tr th:only-of-type {\n",
       "        vertical-align: middle;\n",
       "    }\n",
       "\n",
       "    .dataframe tbody tr th {\n",
       "        vertical-align: top;\n",
       "    }\n",
       "\n",
       "    .dataframe thead th {\n",
       "        text-align: right;\n",
       "    }\n",
       "</style>\n",
       "<table border=\"1\" class=\"dataframe\">\n",
       "  <thead>\n",
       "    <tr style=\"text-align: right;\">\n",
       "      <th></th>\n",
       "      <th>length_title</th>\n",
       "      <th>avg_score</th>\n",
       "      <th>num_posts</th>\n",
       "    </tr>\n",
       "  </thead>\n",
       "  <tbody>\n",
       "    <tr>\n",
       "      <td>0</td>\n",
       "      <td>1</td>\n",
       "      <td>40.804163</td>\n",
       "      <td>472705</td>\n",
       "    </tr>\n",
       "    <tr>\n",
       "      <td>1</td>\n",
       "      <td>2</td>\n",
       "      <td>65.521526</td>\n",
       "      <td>739424</td>\n",
       "    </tr>\n",
       "    <tr>\n",
       "      <td>2</td>\n",
       "      <td>3</td>\n",
       "      <td>65.577614</td>\n",
       "      <td>1361269</td>\n",
       "    </tr>\n",
       "    <tr>\n",
       "      <td>3</td>\n",
       "      <td>4</td>\n",
       "      <td>92.408734</td>\n",
       "      <td>2588850</td>\n",
       "    </tr>\n",
       "    <tr>\n",
       "      <td>4</td>\n",
       "      <td>5</td>\n",
       "      <td>84.223042</td>\n",
       "      <td>2210213</td>\n",
       "    </tr>\n",
       "    <tr>\n",
       "      <td>5</td>\n",
       "      <td>6</td>\n",
       "      <td>129.382588</td>\n",
       "      <td>3850745</td>\n",
       "    </tr>\n",
       "    <tr>\n",
       "      <td>6</td>\n",
       "      <td>7</td>\n",
       "      <td>105.844544</td>\n",
       "      <td>2858907</td>\n",
       "    </tr>\n",
       "    <tr>\n",
       "      <td>7</td>\n",
       "      <td>8</td>\n",
       "      <td>99.618349</td>\n",
       "      <td>2939891</td>\n",
       "    </tr>\n",
       "    <tr>\n",
       "      <td>8</td>\n",
       "      <td>9</td>\n",
       "      <td>104.936504</td>\n",
       "      <td>3818682</td>\n",
       "    </tr>\n",
       "    <tr>\n",
       "      <td>9</td>\n",
       "      <td>10</td>\n",
       "      <td>103.995719</td>\n",
       "      <td>3773035</td>\n",
       "    </tr>\n",
       "  </tbody>\n",
       "</table>\n",
       "</div>"
      ],
      "text/plain": [
       "   length_title   avg_score  num_posts\n",
       "0             1   40.804163     472705\n",
       "1             2   65.521526     739424\n",
       "2             3   65.577614    1361269\n",
       "3             4   92.408734    2588850\n",
       "4             5   84.223042    2210213\n",
       "5             6  129.382588    3850745\n",
       "6             7  105.844544    2858907\n",
       "7             8   99.618349    2939891\n",
       "8             9  104.936504    3818682\n",
       "9            10  103.995719    3773035"
      ]
     },
     "execution_count": 15,
     "metadata": {},
     "output_type": "execute_result"
    }
   ],
   "source": [
    "import pandas as pd\n",
    "import matplotlib.pyplot as plt\n",
    "import numpy as np\n",
    "\n",
    "'''\n",
    "SELECT\n",
    "  LENGTH(title) as length_title,\n",
    "  AVG(score) as avg_score,\n",
    "  COUNT(*) as num_posts\n",
    "FROM\n",
    "  `fh-bigquery.reddit_posts.*`\n",
    "WHERE\n",
    "  _TABLE_SUFFIX BETWEEN '2016_01' AND '2019_08'\n",
    "  AND LENGTH(title) > 0\n",
    "  AND LENGTH(title) <= 300\n",
    "GROUP BY length_title\n",
    "ORDER BY length_title\n",
    "'''\n",
    "\n",
    "# Import the data\n",
    "data = pd.read_csv('titleLengthVsScoreWithCount.csv', sep=',')\n",
    "data[:10]"
   ]
  },
  {
   "cell_type": "code",
   "execution_count": 13,
   "metadata": {},
   "outputs": [
    {
     "data": {
      "image/png": "[encoded data removed]",
      "text/plain": [
       "<Figure size 432x288 with 1 Axes>"
      ]
     },
     "metadata": {
      "needs_background": "light"
     },
     "output_type": "display_data"
    }
   ],
   "source": [
    "plt.scatter(x = data['length_title'], y = data['avg_score'], s = data['num_posts']/200000)\n",
    "plt.title('Length of Post Title vs Average Score of Post')\n",
    "plt.xlabel('Length of Post Title (# of Characters)')\n",
    "plt.ylabel('Average Score of Post')\n",
    "plt.show()"
   ]
  },
  {
   "cell_type": "code",
   "execution_count": null,
   "metadata": {},
   "outputs": [],
   "source": []
  }
 ],
 "metadata": {
  "kernelspec": {
   "display_name": "Python 3",
   "language": "python",
   "name": "python3"
  },
  "language_info": {
   "codemirror_mode": {
    "name": "ipython",
    "version": 3
   },
   "file_extension": ".py",
   "mimetype": "text/x-python",
   "name": "python",
   "nbconvert_exporter": "python",
   "pygments_lexer": "ipython3",
   "version": "3.7.4"
  }
 },
 "nbformat": 4,
 "nbformat_minor": 2
}
