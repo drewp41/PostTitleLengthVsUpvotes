{
 "cells": [
  {
   "cell_type": "markdown",
   "metadata": {},
   "source": [
    "<img src=\"https://miro.medium.com/max/3840/1*e3E0OQzfYCuWk0pket5dAA.png\" alt=\"Reddit Logo\" />\n",
    "<center> <h1 style=\"font-size:36px;\">Predicting Upvotes and Popularity on Reddit</h1> </center>\n",
    "<h4>\n",
    "Authors: Andrew Paul, Chigozie Nna</h4>\n",
    "<hr>\n",
    "<body>\n",
    "<h1>Introduction </h1>\n",
    "    \n",
    "Reddit is an American social news aggregation, web content rating, and discussion website. Reddit originally created by two University of Virgina Students, Steven Huffman and Alexis Ohanian, in the year 2005. A year later Condé Nast Publications acquired the site as their own. Popularity in Reddit began to arise, as by 2007 NSFW, Programming, and Science where the the top trending subreddits of the time. By the year 2008, a launch of numerous different subreddits began to popularize the site, with Reddit being able to gain enough popularity to overtake Digg in search popularity by 2010. Reddit’s rise to fame did not stop there with, Reddit finally achieving a total of one billion page views per month in the year 2011. The goal of Reddit is for members to be able to submit content to the site in the form of links, text posts, and images, which can then be voted up or down by opposing members. The posts are categorized into items called “Subreddits” where users can share specific topics and/or interests that relate to the category at hand. Full details on it’s timeline and history can be viewed here.\n",
    "\n",
    "In this tutorial, our goal is to tidy up the data of posts within a years total, to provide us with knowledge into which what the amount of characters in a post cause the most effect in terms of up votes, down votes, score, and in general a reaction to the post. Post may vary in topics, arguments, time posted, and many more varieties, but we feel as if the popularity really depends on the length of characters used. We will be able to determine which length is just to short, and what length is long enough to bore an audience and not give the time to react to it. We hope to give enough information and analysis to provide, clarity, understanding and hopefully a new found interest to readers that are unfamiliar with the social foreground. Hopefully those who are frequent Reddit users, will gain some insight on how long they should make their posts if they are trying to gain more popularity.\n",
    "<body>\n",
    "<hr>\n",
    "<body>\n",
    "<h1 id=\"getting-started-with-the-data\">Getting started with the Data</h1>\n",
    "<p>We decided to use Python 3 and SQL to help gain and analyze our data. Crucial libraries used to help us where: <a href=\"https://towardsdatascience.com/a-quick-introduction-to-the-pandas-python-library-f1b678f34673\">pandas</a>, <a href=\"https://matplotlib.org/\">matplotlib</a>, <a href=\"https://python-graph-gallery.com/seaborn/\">seaborn</a>, and <a href=\"https://machinelearningmastery.com/a-gentle-introduction-to-scikit-learn-a-python-machine-learning-library/\">scikit-learn</a>.</p>\n",
    "</body>"
   ]
  },
  {
   "cell_type": "code",
   "execution_count": 166,
   "metadata": {},
   "outputs": [],
   "source": [
    "import pandas as pd\n",
    "import matplotlib.pyplot as plt\n",
    "import numpy as np\n",
    "import seaborn as sns\n",
    "from sklearn import model_selection\n",
    "from sklearn import linear_model\n",
    "from sklearn import preprocessing\n",
    "from sklearn.preprocessing import LabelEncoder\n",
    "from sklearn.preprocessing import PolynomialFeatures\n",
    "from sklearn.linear_model import LinearRegression"
   ]
  },
  {
   "cell_type": "markdown",
   "metadata": {},
   "source": [
    "<body> We plan on using multiple panda dataframes that will be read in using SQL commands through googles BigQuery website.\n",
    "    \n",
    "<h2>Processing and Recieving data </h2>\n",
    "\n",
    "We used the following SQL command through Googles BigQuery to at first take data from a third party called <a href=https://pushshift.io/>\"Pushshift\"</a> that is a Reddit API that tracks almost all of Reddit's for the last few years. We are taking in data from 2016 to Augst 2019 due to the immense amount of data that is tracked.\n",
    "</body>"
   ]
  },
  {
   "cell_type": "markdown",
   "metadata": {},
   "source": [
    "<img src= \"https://i.imgur.com/xc6mlpA.png>\" alt= \"SQL Code\" width=\"400\"/>"
   ]
  },
  {
   "cell_type": "markdown",
   "metadata": {},
   "source": [
    "<body> In this SQL Query we are getting the length of every single title, averaging the score based on the length of the title, the average number of comments based on the length of the title, and the number of posts with that amount of characters. This is done by using the 'GROUP BY' command with SQL. BigQuery convertd this data into a <a href= https://www.howtogeek.com/348960/what-is-a-csv-file-and-how-do-i-open-it/>csv file</a>, which is a table or excel seperating the data by commas (,) making it easy to parse and split the data with.\n",
    "\n",
    "<h2> Reading the Data </h2>\n",
    "\n",
    "We will First use Pythons Pandas to read in the csv file and convert it into a panda <a href=https://www.geeksforgeeks.org/python-pandas-dataframe/>dataframe</a>, which is a two-dimensional size-mutable, potentially heterogeneous tabular data structure with labeled axes (rows and columns)"
   ]
  },
  {
   "cell_type": "code",
   "execution_count": 167,
   "metadata": {},
   "outputs": [
    {
     "data": {
      "text/html": [
       "<div>\n",
       "<style scoped>\n",
       "    .dataframe tbody tr th:only-of-type {\n",
       "        vertical-align: middle;\n",
       "    }\n",
       "\n",
       "    .dataframe tbody tr th {\n",
       "        vertical-align: top;\n",
       "    }\n",
       "\n",
       "    .dataframe thead th {\n",
       "        text-align: right;\n",
       "    }\n",
       "</style>\n",
       "<table border=\"1\" class=\"dataframe\">\n",
       "  <thead>\n",
       "    <tr style=\"text-align: right;\">\n",
       "      <th></th>\n",
       "      <th>length_title</th>\n",
       "      <th>avg_score</th>\n",
       "      <th>avg_comments</th>\n",
       "      <th>num_posts</th>\n",
       "    </tr>\n",
       "  </thead>\n",
       "  <tbody>\n",
       "    <tr>\n",
       "      <td>0</td>\n",
       "      <td>1</td>\n",
       "      <td>40.804163</td>\n",
       "      <td>1.789499</td>\n",
       "      <td>472705</td>\n",
       "    </tr>\n",
       "    <tr>\n",
       "      <td>1</td>\n",
       "      <td>2</td>\n",
       "      <td>65.521526</td>\n",
       "      <td>2.796440</td>\n",
       "      <td>739424</td>\n",
       "    </tr>\n",
       "    <tr>\n",
       "      <td>2</td>\n",
       "      <td>3</td>\n",
       "      <td>65.577614</td>\n",
       "      <td>3.039975</td>\n",
       "      <td>1361269</td>\n",
       "    </tr>\n",
       "    <tr>\n",
       "      <td>3</td>\n",
       "      <td>4</td>\n",
       "      <td>92.408734</td>\n",
       "      <td>3.559541</td>\n",
       "      <td>2588850</td>\n",
       "    </tr>\n",
       "    <tr>\n",
       "      <td>4</td>\n",
       "      <td>5</td>\n",
       "      <td>84.223042</td>\n",
       "      <td>3.203536</td>\n",
       "      <td>2210213</td>\n",
       "    </tr>\n",
       "    <tr>\n",
       "      <td>5</td>\n",
       "      <td>6</td>\n",
       "      <td>129.382588</td>\n",
       "      <td>3.370371</td>\n",
       "      <td>3850745</td>\n",
       "    </tr>\n",
       "    <tr>\n",
       "      <td>6</td>\n",
       "      <td>7</td>\n",
       "      <td>105.844544</td>\n",
       "      <td>3.985902</td>\n",
       "      <td>2858907</td>\n",
       "    </tr>\n",
       "    <tr>\n",
       "      <td>7</td>\n",
       "      <td>8</td>\n",
       "      <td>99.618349</td>\n",
       "      <td>4.208025</td>\n",
       "      <td>2939891</td>\n",
       "    </tr>\n",
       "    <tr>\n",
       "      <td>8</td>\n",
       "      <td>9</td>\n",
       "      <td>104.936504</td>\n",
       "      <td>4.531499</td>\n",
       "      <td>3818682</td>\n",
       "    </tr>\n",
       "    <tr>\n",
       "      <td>9</td>\n",
       "      <td>10</td>\n",
       "      <td>103.995719</td>\n",
       "      <td>4.758954</td>\n",
       "      <td>3773035</td>\n",
       "    </tr>\n",
       "  </tbody>\n",
       "</table>\n",
       "</div>"
      ],
      "text/plain": [
       "   length_title   avg_score  avg_comments  num_posts\n",
       "0             1   40.804163      1.789499     472705\n",
       "1             2   65.521526      2.796440     739424\n",
       "2             3   65.577614      3.039975    1361269\n",
       "3             4   92.408734      3.559541    2588850\n",
       "4             5   84.223042      3.203536    2210213\n",
       "5             6  129.382588      3.370371    3850745\n",
       "6             7  105.844544      3.985902    2858907\n",
       "7             8   99.618349      4.208025    2939891\n",
       "8             9  104.936504      4.531499    3818682\n",
       "9            10  103.995719      4.758954    3773035"
      ]
     },
     "execution_count": 167,
     "metadata": {},
     "output_type": "execute_result"
    }
   ],
   "source": [
    "data = pd.read_csv('LengthScoreComments.csv', sep=',')\n",
    "data[:10]"
   ]
  },
  {
   "cell_type": "markdown",
   "metadata": {},
   "source": [
    "In the DataFrame above you can see: \n",
    "   * length_title: Amount of Characters in the title\n",
    "   * avg_score: The average Score the post will recieve with character length\n",
    "   * avg_comments: The average amount of comments a post will recieve with character length\n",
    "   * num_posts: The Number of posts between 2016-Aug 2019 with character Length\n",
    "\n",
    "<hr size=\"20\">\n",
    "<body>\n",
    "<h2> Graphing</h2>\n",
    "\n",
    "In this first graph we will graph to see the relation between Length of Title verse the Average Score to see if there is a relation between if a reddit user will reciever more votes based on the character length of their post. This can help readers get an insight to how long they should make their posts if they desire to be the most popular reddit user of their peers.\n",
    "</body>"
   ]
  },
  {
   "cell_type": "code",
   "execution_count": 168,
   "metadata": {},
   "outputs": [
    {
     "data": {
      "image/png": "[encoded data removed]",
      "text/plain": [
       "<Figure size 432x288 with 1 Axes>"
      ]
     },
     "metadata": {
      "needs_background": "light"
     },
     "output_type": "display_data"
    }
   ],
   "source": [
    "plt.scatter(x = data['length_title'], y = data['avg_score'], s = data['num_posts']/200000)\n",
    "plt.title('Length of Post Title vs Average Score of Post')\n",
    "plt.xlabel('Length of Post Title (# of Characters)')\n",
    "plt.ylabel('Average Score of Post')\n",
    "plt.show()"
   ]
  },
  {
   "cell_type": "markdown",
   "metadata": {},
   "source": [
    "<body> We can see that there is a clear relation between the upvotes and the  number of characters in the post title. Based on the graph it seems that it is the best to have captions of Character lengths between 5-25 and 153-300+. The range most likely is based off the fact that the type of posts are farely different. There are many popular subreddits named short and quick things like \"meow\" to follow a trend that will be a picture of a cat that revieve many likes as long as they are following the trend. This Explains the peak and the downtrend of the number of likes as the posts begin to be normal and causal day to day type of posts. The number of UpVotes however does begin to rise again as the number of character are longer. This is because as the characters get longer, they tend to be actual issues and problems that recieve more views and reactions (ex: A president trump quote = more characters and responses).\n",
    "<body>\n",
    "\n",
    "<hr size=\"20\">\n",
    "\n",
    "<h2> Comments </h2>\n",
    "\n",
    "<p> We then decided to check if there was a relation between amount of comments verse the character length of the posts. People will place upvotes to anything they think is funny, however we wanted to see which posts actually get people commenting. Comments are what we deemed as true reactions to the posts, since it requires viewers to put in more effort than just a click for an upvote.</p>"
   ]
  },
  {
   "cell_type": "code",
   "execution_count": 179,
   "metadata": {},
   "outputs": [
    {
     "data": {
      "image/png": "[encoded data removed]",
      "text/plain": [
       "<Figure size 432x288 with 1 Axes>"
      ]
     },
     "metadata": {
      "needs_background": "light"
     },
     "output_type": "display_data"
    }
   ],
   "source": [
    "plot = plt.scatter(x = data['length_title'], y = data['avg_comments'], s = data['num_posts']/200000)\n",
    "plt.title('Avg Number of Comments vs Length of Post title')\n",
    "plt.xlabel('Length of Post Title (# of Characters)')\n",
    "plt.ylabel('Average Comments')\n",
    "plt.show()"
   ]
  },
  {
   "cell_type": "markdown",
   "metadata": {},
   "source": [
    "<body>Based on the relation we are able to see that the Number of comments are actually greater based on the character length of the posts. A reasoning for this data is that the longer the character length in posts most likely mean, it is on a controversial topic, quote, or a scientific analysis that people are more likely to comment on and put their input. This is in contrast to small memes and jokes that will mostly recieve likes and not comments.</body>\n",
    "\n",
    "<hr size=20>\n",
    "\n",
    "<center> <h2> Reddit Artwork </h2> </center>\n",
    "<img src=\"https://static.makeuseof.com/wp-content/uploads/2019/04/whats-reddit-670x335.jpg\" />\n",
    "\n",
    "\n",
    "<h2> Filtered Data </h2>\n",
    "    \n",
    "<p> We then decided to filter our data because there was very big bias with the top subreddits with small captions. We want to see the relationship between length and upvotes for typical reddit day to day users, that are making posts that arent silly small trends like \"meow\"</p>"
   ]
  },
  {
   "cell_type": "markdown",
   "metadata": {},
   "source": [
    "<img src=\"https://i.imgur.com/bALsUPt.png\" width=\"500\" />"
   ]
  },
  {
   "cell_type": "markdown",
   "metadata": {},
   "source": [
    "<p> In this SQL Query we are creating an entirely new cvs file with the top 15 subreddits to see the relation between these subreddits that people typically talk about on a day to day basis. This data should give an accurate analysis of what we were looking for and give a different result in the relation shown in the graph<p>"
   ]
  },
  {
   "cell_type": "code",
   "execution_count": 170,
   "metadata": {},
   "outputs": [
    {
     "data": {
      "text/html": [
       "<div>\n",
       "<style scoped>\n",
       "    .dataframe tbody tr th:only-of-type {\n",
       "        vertical-align: middle;\n",
       "    }\n",
       "\n",
       "    .dataframe tbody tr th {\n",
       "        vertical-align: top;\n",
       "    }\n",
       "\n",
       "    .dataframe thead th {\n",
       "        text-align: right;\n",
       "    }\n",
       "</style>\n",
       "<table border=\"1\" class=\"dataframe\">\n",
       "  <thead>\n",
       "    <tr style=\"text-align: right;\">\n",
       "      <th></th>\n",
       "      <th>length_title</th>\n",
       "      <th>avg_score</th>\n",
       "      <th>num_posts</th>\n",
       "    </tr>\n",
       "  </thead>\n",
       "  <tbody>\n",
       "    <tr>\n",
       "      <td>0</td>\n",
       "      <td>1</td>\n",
       "      <td>90.522604</td>\n",
       "      <td>9401</td>\n",
       "    </tr>\n",
       "    <tr>\n",
       "      <td>1</td>\n",
       "      <td>2</td>\n",
       "      <td>210.944914</td>\n",
       "      <td>18934</td>\n",
       "    </tr>\n",
       "    <tr>\n",
       "      <td>2</td>\n",
       "      <td>3</td>\n",
       "      <td>207.167737</td>\n",
       "      <td>35812</td>\n",
       "    </tr>\n",
       "    <tr>\n",
       "      <td>3</td>\n",
       "      <td>4</td>\n",
       "      <td>218.983280</td>\n",
       "      <td>61842</td>\n",
       "    </tr>\n",
       "    <tr>\n",
       "      <td>4</td>\n",
       "      <td>5</td>\n",
       "      <td>241.415093</td>\n",
       "      <td>57298</td>\n",
       "    </tr>\n",
       "    <tr>\n",
       "      <td>5</td>\n",
       "      <td>6</td>\n",
       "      <td>271.754140</td>\n",
       "      <td>62556</td>\n",
       "    </tr>\n",
       "    <tr>\n",
       "      <td>6</td>\n",
       "      <td>7</td>\n",
       "      <td>285.368175</td>\n",
       "      <td>77455</td>\n",
       "    </tr>\n",
       "    <tr>\n",
       "      <td>7</td>\n",
       "      <td>8</td>\n",
       "      <td>288.794141</td>\n",
       "      <td>94686</td>\n",
       "    </tr>\n",
       "    <tr>\n",
       "      <td>8</td>\n",
       "      <td>9</td>\n",
       "      <td>316.807680</td>\n",
       "      <td>123414</td>\n",
       "    </tr>\n",
       "    <tr>\n",
       "      <td>9</td>\n",
       "      <td>10</td>\n",
       "      <td>313.843326</td>\n",
       "      <td>141357</td>\n",
       "    </tr>\n",
       "  </tbody>\n",
       "</table>\n",
       "</div>"
      ],
      "text/plain": [
       "   length_title   avg_score  num_posts\n",
       "0             1   90.522604       9401\n",
       "1             2  210.944914      18934\n",
       "2             3  207.167737      35812\n",
       "3             4  218.983280      61842\n",
       "4             5  241.415093      57298\n",
       "5             6  271.754140      62556\n",
       "6             7  285.368175      77455\n",
       "7             8  288.794141      94686\n",
       "8             9  316.807680     123414\n",
       "9            10  313.843326     141357"
      ]
     },
     "execution_count": 170,
     "metadata": {},
     "output_type": "execute_result"
    }
   ],
   "source": [
    "Unbias = pd.read_csv('FilteredSubLengthScore.csv', sep=',')\n",
    "Unbias[:10]"
   ]
  },
  {
   "cell_type": "markdown",
   "metadata": {},
   "source": [
    "In the DataFrame above you can see: \n",
    "   * length_title: Amount of Characters in the title\n",
    "   * avg_score: The average Score the post will recieve with character length\n",
    "   * num_posts: The Number of posts between 2016-Aug 2019 with character Length\n",
    "\n",
    "\n",
    "<hr size=\"20\">\n",
    "<body>\n",
    "<h2> Graphing Filtered Data</h2>\n",
    "\n",
    "In this next graph we will graph to see the relation between Length of Title verse the Average Score to see if there is the same relation as the first graph, however if there is now a change in the data now that it is based off the top 15 most popular subreddits. This should give a more accurate amount of data that should actually help reddit users decide how loong their pots should be so they can be popular.\n",
    "</body>"
   ]
  },
  {
   "cell_type": "code",
   "execution_count": 171,
   "metadata": {
    "scrolled": true
   },
   "outputs": [
    {
     "data": {
      "image/png": "[encoded data removed]",
      "text/plain": [
       "<Figure size 432x288 with 1 Axes>"
      ]
     },
     "metadata": {
      "needs_background": "light"
     },
     "output_type": "display_data"
    }
   ],
   "source": [
    "plt.scatter(x = Unbias['length_title'], y = Unbias['avg_score'], s = Unbias['num_posts']/10000)\n",
    "plt.title('Length of Post Title vs Average Score of Post (Filtered)')\n",
    "plt.xlabel('Length of Post Title (# of Characters)')\n",
    "plt.ylabel('Average Score of Post')\n",
    "plt.show()"
   ]
  },
  {
   "cell_type": "markdown",
   "metadata": {},
   "source": [
    "<p>Based on the new graph we can see a less skewed range of values and a smaller drop off between the relationship. We can see a more accurate drop off. It seems that the amount of characters required are still the same despite the data being filtered now. This overall proves the fact that it is best to have posts that are between the amounts of 5-25 characters. </p>\n",
    "\n",
    "<hr size=\"20\">\n",
    "\n",
    "<center> <h2> Linear & Polynomial Regression </h2> </center>\n",
    "\n",
    "<p> We decied that we would like to get a relative prediction of what the outcome would be by create first a linear regression of the data and then create a ploynomial trend line to the data since it is not a linear change based on the look. </p>\n",
    "\n",
    "<h3> Linear </h3>"
   ]
  },
  {
   "cell_type": "code",
   "execution_count": 172,
   "metadata": {},
   "outputs": [
    {
     "ename": "NameError",
     "evalue": "name 'model_pred' is not defined",
     "output_type": "error",
     "traceback": [
      "\u001b[0;31m---------------------------------------------------------------------------\u001b[0m",
      "\u001b[0;31mNameError\u001b[0m                                 Traceback (most recent call last)",
      "\u001b[0;32m<ipython-input-172-53a2335271c7>\u001b[0m in \u001b[0;36m<module>\u001b[0;34m\u001b[0m\n\u001b[1;32m      8\u001b[0m \u001b[0mplt\u001b[0m\u001b[0;34m.\u001b[0m\u001b[0mfigure\u001b[0m\u001b[0;34m(\u001b[0m\u001b[0mfigsize\u001b[0m\u001b[0;34m=\u001b[0m\u001b[0;34m(\u001b[0m\u001b[0;36m10\u001b[0m\u001b[0;34m,\u001b[0m\u001b[0;36m8\u001b[0m\u001b[0;34m)\u001b[0m\u001b[0;34m)\u001b[0m\u001b[0;34m;\u001b[0m\u001b[0;34m\u001b[0m\u001b[0;34m\u001b[0m\u001b[0m\n\u001b[1;32m      9\u001b[0m \u001b[0mplt\u001b[0m\u001b[0;34m.\u001b[0m\u001b[0mscatter\u001b[0m\u001b[0;34m(\u001b[0m\u001b[0mX\u001b[0m\u001b[0;34m,\u001b[0m \u001b[0mY\u001b[0m\u001b[0;34m)\u001b[0m\u001b[0;34m;\u001b[0m\u001b[0;34m\u001b[0m\u001b[0;34m\u001b[0m\u001b[0m\n\u001b[0;32m---> 10\u001b[0;31m \u001b[0mplt\u001b[0m\u001b[0;34m.\u001b[0m\u001b[0mplot\u001b[0m\u001b[0;34m(\u001b[0m\u001b[0mX\u001b[0m\u001b[0;34m,\u001b[0m \u001b[0mmodel_pred\u001b[0m\u001b[0;34m)\u001b[0m\u001b[0;34m;\u001b[0m\u001b[0;34m\u001b[0m\u001b[0;34m\u001b[0m\u001b[0m\n\u001b[0m\u001b[1;32m     11\u001b[0m \u001b[0mplt\u001b[0m\u001b[0;34m.\u001b[0m\u001b[0mtitle\u001b[0m\u001b[0;34m(\u001b[0m\u001b[0;34m'Length of Post Title vs Average Score of Post (Filtered)'\u001b[0m\u001b[0;34m)\u001b[0m\u001b[0;34m\u001b[0m\u001b[0;34m\u001b[0m\u001b[0m\n\u001b[1;32m     12\u001b[0m \u001b[0mplt\u001b[0m\u001b[0;34m.\u001b[0m\u001b[0mxlabel\u001b[0m\u001b[0;34m(\u001b[0m\u001b[0;34m'Length of Post Title (# of Characters)'\u001b[0m\u001b[0;34m)\u001b[0m\u001b[0;34m\u001b[0m\u001b[0;34m\u001b[0m\u001b[0m\n",
      "\u001b[0;31mNameError\u001b[0m: name 'model_pred' is not defined"
     ]
    },
    {
     "data": {
      "image/png": "[encoded data removed]",
      "text/plain": [
       "<Figure size 720x576 with 1 Axes>"
      ]
     },
     "metadata": {
      "needs_background": "light"
     },
     "output_type": "display_data"
    }
   ],
   "source": [
    "Y = Unbias['avg_score']\n",
    "X = Unbias['length_title']\n",
    "\n",
    "linear_regression = LinearRegression()\n",
    "linear_regression.fit(X.values.reshape(-1, 1), Y)\n",
    "model = linear_regression.predict(X.values.reshape(-1,1))\n",
    "\n",
    "plt.figure(figsize=(10,8));\n",
    "plt.scatter(X, Y);\n",
    "plt.plot(X, model_pred);\n",
    "plt.title('Length of Post Title vs Average Score of Post (Filtered)')\n",
    "plt.xlabel('Length of Post Title (# of Characters)')\n",
    "plt.ylabel('Average Score of Post')"
   ]
  },
  {
   "cell_type": "markdown",
   "metadata": {},
   "source": [
    "<h3> Polynomial </h3>"
   ]
  },
  {
   "cell_type": "code",
   "execution_count": 173,
   "metadata": {},
   "outputs": [
    {
     "data": {
      "text/plain": [
       "Text(0, 0.5, 'Average Score of Post')"
      ]
     },
     "execution_count": 173,
     "metadata": {},
     "output_type": "execute_result"
    },
    {
     "data": {
      "image/png": "[encoded data removed]",
      "text/plain": [
       "<Figure size 720x576 with 1 Axes>"
      ]
     },
     "metadata": {
      "needs_background": "light"
     },
     "output_type": "display_data"
    }
   ],
   "source": [
    "poly_reg = PolynomialFeatures(degree=2)\n",
    "poly = poly_reg.fit_transform(X.values.reshape(-1, 1))\n",
    "\n",
    "\n",
    "linear_regression2 = LinearRegression()\n",
    "linear_regression2.fit(poly, Y.values.reshape(-1, 1))\n",
    "y_pred = linear_regression2.predict(poly)\n",
    "plt.figure(figsize=(10,8));\n",
    "plt.scatter(X, Y);\n",
    "plt.plot(X, y_pred);\n",
    "plt.title('Length of Post Title vs Average Score of Post (Filtered)')\n",
    "plt.xlabel('Length of Post Title (# of Characters)')\n",
    "plt.ylabel('Average Score of Post')"
   ]
  },
  {
   "cell_type": "markdown",
   "metadata": {},
   "source": [
    "<p>As you can see the ploynomial regression gives us a more accurate analysis of the data. We can see, the relation between the length of characters in a post and the average number of upvotes is a clear polynomial relation. Reddit users can use this now to get an accurate way to decide if they want to either go with a short amount of characters to get around 300 upvotes, or go with a more lengthy response to get 300+ upvotes. </p>\n",
    "<hr size=20>\n",
    "\n",
    "<center> <h2> Typical Reddit Home Page </h2></center>\n",
    "<img src=\"https://i.redd.it/vb63xmw7skm21.png\" width= 800/>"
   ]
  },
  {
   "cell_type": "markdown",
   "metadata": {},
   "source": [
    "\n",
    "<center> <h2> Time Matters </h2> </center> \n",
    "\n",
    "<p>In this section we will be analyzing whether the time and day of the post also come in as a factor to upvotes. This way us Reddit users can pinpoint the very day and time we should post to get the maximum popularity and be seen as a legend to our peers. We first started by getting new data again through BigQuery</p>\n",
    "\n",
    "<img src=\"https://i.imgur.com/63bqeZ2.png\" width= 700/>"
   ]
  },
  {
   "cell_type": "code",
   "execution_count": 174,
   "metadata": {},
   "outputs": [
    {
     "data": {
      "text/html": [
       "<div>\n",
       "<style scoped>\n",
       "    .dataframe tbody tr th:only-of-type {\n",
       "        vertical-align: middle;\n",
       "    }\n",
       "\n",
       "    .dataframe tbody tr th {\n",
       "        vertical-align: top;\n",
       "    }\n",
       "\n",
       "    .dataframe thead th {\n",
       "        text-align: right;\n",
       "    }\n",
       "</style>\n",
       "<table border=\"1\" class=\"dataframe\">\n",
       "  <thead>\n",
       "    <tr style=\"text-align: right;\">\n",
       "      <th></th>\n",
       "      <th>avg_score</th>\n",
       "      <th>dayofweek</th>\n",
       "      <th>hourofday</th>\n",
       "    </tr>\n",
       "  </thead>\n",
       "  <tbody>\n",
       "    <tr>\n",
       "      <td>0</td>\n",
       "      <td>817.979886</td>\n",
       "      <td>Sunday</td>\n",
       "      <td>12 AM</td>\n",
       "    </tr>\n",
       "    <tr>\n",
       "      <td>1</td>\n",
       "      <td>832.602126</td>\n",
       "      <td>Sunday</td>\n",
       "      <td>1 AM</td>\n",
       "    </tr>\n",
       "    <tr>\n",
       "      <td>2</td>\n",
       "      <td>926.316992</td>\n",
       "      <td>Sunday</td>\n",
       "      <td>2 AM</td>\n",
       "    </tr>\n",
       "    <tr>\n",
       "      <td>3</td>\n",
       "      <td>1013.444329</td>\n",
       "      <td>Sunday</td>\n",
       "      <td>3 AM</td>\n",
       "    </tr>\n",
       "    <tr>\n",
       "      <td>4</td>\n",
       "      <td>1134.617892</td>\n",
       "      <td>Sunday</td>\n",
       "      <td>4 AM</td>\n",
       "    </tr>\n",
       "    <tr>\n",
       "      <td>...</td>\n",
       "      <td>...</td>\n",
       "      <td>...</td>\n",
       "      <td>...</td>\n",
       "    </tr>\n",
       "    <tr>\n",
       "      <td>163</td>\n",
       "      <td>971.682509</td>\n",
       "      <td>Saturday</td>\n",
       "      <td>7 PM</td>\n",
       "    </tr>\n",
       "    <tr>\n",
       "      <td>164</td>\n",
       "      <td>942.749931</td>\n",
       "      <td>Saturday</td>\n",
       "      <td>8 PM</td>\n",
       "    </tr>\n",
       "    <tr>\n",
       "      <td>165</td>\n",
       "      <td>911.208568</td>\n",
       "      <td>Saturday</td>\n",
       "      <td>9 PM</td>\n",
       "    </tr>\n",
       "    <tr>\n",
       "      <td>166</td>\n",
       "      <td>880.878130</td>\n",
       "      <td>Saturday</td>\n",
       "      <td>10 PM</td>\n",
       "    </tr>\n",
       "    <tr>\n",
       "      <td>167</td>\n",
       "      <td>823.783345</td>\n",
       "      <td>Saturday</td>\n",
       "      <td>11 PM</td>\n",
       "    </tr>\n",
       "  </tbody>\n",
       "</table>\n",
       "<p>168 rows × 3 columns</p>\n",
       "</div>"
      ],
      "text/plain": [
       "       avg_score dayofweek hourofday\n",
       "0     817.979886    Sunday     12 AM\n",
       "1     832.602126    Sunday      1 AM\n",
       "2     926.316992    Sunday      2 AM\n",
       "3    1013.444329    Sunday      3 AM\n",
       "4    1134.617892    Sunday      4 AM\n",
       "..           ...       ...       ...\n",
       "163   971.682509  Saturday      7 PM\n",
       "164   942.749931  Saturday      8 PM\n",
       "165   911.208568  Saturday      9 PM\n",
       "166   880.878130  Saturday     10 PM\n",
       "167   823.783345  Saturday     11 PM\n",
       "\n",
       "[168 rows x 3 columns]"
      ]
     },
     "execution_count": 174,
     "metadata": {},
     "output_type": "execute_result"
    }
   ],
   "source": [
    "# Relationship between time of day posted and average score of the post (if score >= 100)\n",
    "# We looked at the average score of posts on every hour of every day of the week\n",
    "# So 24 hours in a day x 7 days a week gives us 168 rows of data points\n",
    "\n",
    "timeScore = pd.read_csv('TimeVsScore.csv', sep=',')\n",
    "formattedTimeScore = timeScore.copy()\n",
    "formattedTimeScore['hourofday'] = formattedTimeScore['hourofday'].apply(convertHourToTime)\n",
    "formattedTimeScore['dayofweek'] = formattedTimeScore['dayofweek'].apply(convertNumToDay)\n",
    "\n",
    "# Converts the numbers 0-23 to their respective times\n",
    "def convertHourToTime(num):\n",
    "    if num == 0:\n",
    "        timeOfDay = '12 AM'\n",
    "    elif num <= 11:\n",
    "        timeOfDay = str(num) + ' AM'\n",
    "    elif num == 12:\n",
    "        timeOfDay = '12 PM'\n",
    "    else: \n",
    "        timeOfDay = str(num-12) + ' PM'\n",
    "    return timeOfDay\n",
    "\n",
    "# Converts the numbers 1-7 to their respective weekdays\n",
    "def convertNumToDay(num):\n",
    "    weekdays = ['Sunday', 'Monday', 'Tuesday', 'Wednesday', 'Thursday', 'Friday', 'Saturday']\n",
    "    return weekdays[num-1]\n",
    "\n",
    "formattedTimeScore"
   ]
  },
  {
   "cell_type": "code",
   "execution_count": 175,
   "metadata": {},
   "outputs": [
    {
     "data": {
      "text/html": [
       "<div>\n",
       "<style scoped>\n",
       "    .dataframe tbody tr th:only-of-type {\n",
       "        vertical-align: middle;\n",
       "    }\n",
       "\n",
       "    .dataframe tbody tr th {\n",
       "        vertical-align: top;\n",
       "    }\n",
       "\n",
       "    .dataframe thead th {\n",
       "        text-align: right;\n",
       "    }\n",
       "</style>\n",
       "<table border=\"1\" class=\"dataframe\">\n",
       "  <thead>\n",
       "    <tr style=\"text-align: right;\">\n",
       "      <th>hourofday</th>\n",
       "      <th>0</th>\n",
       "      <th>1</th>\n",
       "      <th>2</th>\n",
       "      <th>3</th>\n",
       "      <th>4</th>\n",
       "      <th>5</th>\n",
       "      <th>6</th>\n",
       "      <th>7</th>\n",
       "      <th>8</th>\n",
       "      <th>9</th>\n",
       "      <th>...</th>\n",
       "      <th>14</th>\n",
       "      <th>15</th>\n",
       "      <th>16</th>\n",
       "      <th>17</th>\n",
       "      <th>18</th>\n",
       "      <th>19</th>\n",
       "      <th>20</th>\n",
       "      <th>21</th>\n",
       "      <th>22</th>\n",
       "      <th>23</th>\n",
       "    </tr>\n",
       "    <tr>\n",
       "      <th>dayofweek</th>\n",
       "      <th></th>\n",
       "      <th></th>\n",
       "      <th></th>\n",
       "      <th></th>\n",
       "      <th></th>\n",
       "      <th></th>\n",
       "      <th></th>\n",
       "      <th></th>\n",
       "      <th></th>\n",
       "      <th></th>\n",
       "      <th></th>\n",
       "      <th></th>\n",
       "      <th></th>\n",
       "      <th></th>\n",
       "      <th></th>\n",
       "      <th></th>\n",
       "      <th></th>\n",
       "      <th></th>\n",
       "      <th></th>\n",
       "      <th></th>\n",
       "      <th></th>\n",
       "    </tr>\n",
       "  </thead>\n",
       "  <tbody>\n",
       "    <tr>\n",
       "      <td>1</td>\n",
       "      <td>817.979886</td>\n",
       "      <td>832.602126</td>\n",
       "      <td>926.316992</td>\n",
       "      <td>1013.444329</td>\n",
       "      <td>1134.617892</td>\n",
       "      <td>1283.984606</td>\n",
       "      <td>1400.718513</td>\n",
       "      <td>1384.293555</td>\n",
       "      <td>1339.667450</td>\n",
       "      <td>1227.160091</td>\n",
       "      <td>...</td>\n",
       "      <td>940.857548</td>\n",
       "      <td>968.624444</td>\n",
       "      <td>937.781498</td>\n",
       "      <td>929.255882</td>\n",
       "      <td>967.731765</td>\n",
       "      <td>942.091881</td>\n",
       "      <td>964.019933</td>\n",
       "      <td>963.388646</td>\n",
       "      <td>853.194138</td>\n",
       "      <td>802.564590</td>\n",
       "    </tr>\n",
       "    <tr>\n",
       "      <td>2</td>\n",
       "      <td>815.127267</td>\n",
       "      <td>862.858846</td>\n",
       "      <td>928.686203</td>\n",
       "      <td>1042.522746</td>\n",
       "      <td>1189.814349</td>\n",
       "      <td>1386.860338</td>\n",
       "      <td>1369.992439</td>\n",
       "      <td>1293.379859</td>\n",
       "      <td>1220.160733</td>\n",
       "      <td>1125.224842</td>\n",
       "      <td>...</td>\n",
       "      <td>957.458976</td>\n",
       "      <td>938.846684</td>\n",
       "      <td>938.656955</td>\n",
       "      <td>939.169165</td>\n",
       "      <td>937.429680</td>\n",
       "      <td>957.803950</td>\n",
       "      <td>937.148762</td>\n",
       "      <td>886.015139</td>\n",
       "      <td>810.725206</td>\n",
       "      <td>800.888918</td>\n",
       "    </tr>\n",
       "    <tr>\n",
       "      <td>3</td>\n",
       "      <td>807.148566</td>\n",
       "      <td>859.623517</td>\n",
       "      <td>974.795660</td>\n",
       "      <td>1067.599219</td>\n",
       "      <td>1179.800492</td>\n",
       "      <td>1357.187672</td>\n",
       "      <td>1392.787999</td>\n",
       "      <td>1288.674100</td>\n",
       "      <td>1203.942667</td>\n",
       "      <td>1137.456890</td>\n",
       "      <td>...</td>\n",
       "      <td>968.803341</td>\n",
       "      <td>962.026646</td>\n",
       "      <td>934.731859</td>\n",
       "      <td>944.079777</td>\n",
       "      <td>949.844017</td>\n",
       "      <td>973.267883</td>\n",
       "      <td>955.275513</td>\n",
       "      <td>890.547645</td>\n",
       "      <td>838.271816</td>\n",
       "      <td>822.564901</td>\n",
       "    </tr>\n",
       "    <tr>\n",
       "      <td>4</td>\n",
       "      <td>820.053926</td>\n",
       "      <td>864.788059</td>\n",
       "      <td>966.607819</td>\n",
       "      <td>1086.004091</td>\n",
       "      <td>1201.194851</td>\n",
       "      <td>1373.418265</td>\n",
       "      <td>1386.699401</td>\n",
       "      <td>1285.982900</td>\n",
       "      <td>1201.614869</td>\n",
       "      <td>1116.236775</td>\n",
       "      <td>...</td>\n",
       "      <td>969.912780</td>\n",
       "      <td>957.093768</td>\n",
       "      <td>941.838205</td>\n",
       "      <td>947.765502</td>\n",
       "      <td>929.672191</td>\n",
       "      <td>966.943421</td>\n",
       "      <td>925.359047</td>\n",
       "      <td>874.487371</td>\n",
       "      <td>815.822274</td>\n",
       "      <td>818.863226</td>\n",
       "    </tr>\n",
       "    <tr>\n",
       "      <td>5</td>\n",
       "      <td>810.921800</td>\n",
       "      <td>883.710208</td>\n",
       "      <td>969.234269</td>\n",
       "      <td>1078.066438</td>\n",
       "      <td>1207.298409</td>\n",
       "      <td>1366.675789</td>\n",
       "      <td>1366.740784</td>\n",
       "      <td>1282.025036</td>\n",
       "      <td>1212.700262</td>\n",
       "      <td>1112.079900</td>\n",
       "      <td>...</td>\n",
       "      <td>958.369804</td>\n",
       "      <td>932.961184</td>\n",
       "      <td>935.878545</td>\n",
       "      <td>949.448003</td>\n",
       "      <td>930.227652</td>\n",
       "      <td>964.164243</td>\n",
       "      <td>938.896549</td>\n",
       "      <td>885.560502</td>\n",
       "      <td>840.863545</td>\n",
       "      <td>813.365210</td>\n",
       "    </tr>\n",
       "    <tr>\n",
       "      <td>6</td>\n",
       "      <td>824.531597</td>\n",
       "      <td>883.380917</td>\n",
       "      <td>946.547062</td>\n",
       "      <td>1009.453494</td>\n",
       "      <td>1188.025956</td>\n",
       "      <td>1347.901959</td>\n",
       "      <td>1383.533918</td>\n",
       "      <td>1283.798372</td>\n",
       "      <td>1211.544344</td>\n",
       "      <td>1119.912744</td>\n",
       "      <td>...</td>\n",
       "      <td>943.259381</td>\n",
       "      <td>940.068199</td>\n",
       "      <td>915.703810</td>\n",
       "      <td>920.797151</td>\n",
       "      <td>924.610139</td>\n",
       "      <td>937.115934</td>\n",
       "      <td>920.370725</td>\n",
       "      <td>894.035268</td>\n",
       "      <td>857.822298</td>\n",
       "      <td>790.034420</td>\n",
       "    </tr>\n",
       "    <tr>\n",
       "      <td>7</td>\n",
       "      <td>799.677349</td>\n",
       "      <td>843.552096</td>\n",
       "      <td>933.552917</td>\n",
       "      <td>1037.488966</td>\n",
       "      <td>1152.136520</td>\n",
       "      <td>1315.464118</td>\n",
       "      <td>1392.310930</td>\n",
       "      <td>1390.827688</td>\n",
       "      <td>1304.164204</td>\n",
       "      <td>1162.523854</td>\n",
       "      <td>...</td>\n",
       "      <td>947.246423</td>\n",
       "      <td>940.004676</td>\n",
       "      <td>945.921120</td>\n",
       "      <td>943.630010</td>\n",
       "      <td>936.120690</td>\n",
       "      <td>971.682509</td>\n",
       "      <td>942.749931</td>\n",
       "      <td>911.208568</td>\n",
       "      <td>880.878130</td>\n",
       "      <td>823.783345</td>\n",
       "    </tr>\n",
       "  </tbody>\n",
       "</table>\n",
       "<p>7 rows × 24 columns</p>\n",
       "</div>"
      ],
      "text/plain": [
       "hourofday          0           1           2            3            4   \\\n",
       "dayofweek                                                                 \n",
       "1          817.979886  832.602126  926.316992  1013.444329  1134.617892   \n",
       "2          815.127267  862.858846  928.686203  1042.522746  1189.814349   \n",
       "3          807.148566  859.623517  974.795660  1067.599219  1179.800492   \n",
       "4          820.053926  864.788059  966.607819  1086.004091  1201.194851   \n",
       "5          810.921800  883.710208  969.234269  1078.066438  1207.298409   \n",
       "6          824.531597  883.380917  946.547062  1009.453494  1188.025956   \n",
       "7          799.677349  843.552096  933.552917  1037.488966  1152.136520   \n",
       "\n",
       "hourofday           5            6            7            8            9   \\\n",
       "dayofweek                                                                    \n",
       "1          1283.984606  1400.718513  1384.293555  1339.667450  1227.160091   \n",
       "2          1386.860338  1369.992439  1293.379859  1220.160733  1125.224842   \n",
       "3          1357.187672  1392.787999  1288.674100  1203.942667  1137.456890   \n",
       "4          1373.418265  1386.699401  1285.982900  1201.614869  1116.236775   \n",
       "5          1366.675789  1366.740784  1282.025036  1212.700262  1112.079900   \n",
       "6          1347.901959  1383.533918  1283.798372  1211.544344  1119.912744   \n",
       "7          1315.464118  1392.310930  1390.827688  1304.164204  1162.523854   \n",
       "\n",
       "hourofday  ...          14          15          16          17          18  \\\n",
       "dayofweek  ...                                                               \n",
       "1          ...  940.857548  968.624444  937.781498  929.255882  967.731765   \n",
       "2          ...  957.458976  938.846684  938.656955  939.169165  937.429680   \n",
       "3          ...  968.803341  962.026646  934.731859  944.079777  949.844017   \n",
       "4          ...  969.912780  957.093768  941.838205  947.765502  929.672191   \n",
       "5          ...  958.369804  932.961184  935.878545  949.448003  930.227652   \n",
       "6          ...  943.259381  940.068199  915.703810  920.797151  924.610139   \n",
       "7          ...  947.246423  940.004676  945.921120  943.630010  936.120690   \n",
       "\n",
       "hourofday          19          20          21          22          23  \n",
       "dayofweek                                                              \n",
       "1          942.091881  964.019933  963.388646  853.194138  802.564590  \n",
       "2          957.803950  937.148762  886.015139  810.725206  800.888918  \n",
       "3          973.267883  955.275513  890.547645  838.271816  822.564901  \n",
       "4          966.943421  925.359047  874.487371  815.822274  818.863226  \n",
       "5          964.164243  938.896549  885.560502  840.863545  813.365210  \n",
       "6          937.115934  920.370725  894.035268  857.822298  790.034420  \n",
       "7          971.682509  942.749931  911.208568  880.878130  823.783345  \n",
       "\n",
       "[7 rows x 24 columns]"
      ]
     },
     "execution_count": 175,
     "metadata": {},
     "output_type": "execute_result"
    }
   ],
   "source": [
    "timeScoreMatrix = timeScore.pivot(index='dayofweek', columns='hourofday', values='avg_score')\n",
    "cols = timeScoreMatrix.columns.tolist()\n",
    "cols.insert(0, cols.pop(cols.index(23)))\n",
    "fixedTimeScoreMatrix = timeScoreMatrix.reindex(columns=cols)\n",
    "timeScoreMatrix"
   ]
  },
  {
   "cell_type": "code",
   "execution_count": 176,
   "metadata": {},
   "outputs": [
    {
     "data": {
      "text/plain": [
       "<Figure size 432x288 with 0 Axes>"
      ]
     },
     "metadata": {},
     "output_type": "display_data"
    },
    {
     "data": {
      "image/png": "[encoded data removed]",
      "text/plain": [
       "<Figure size 1080x1080 with 2 Axes>"
      ]
     },
     "metadata": {
      "needs_background": "light"
     },
     "output_type": "display_data"
    }
   ],
   "source": [
    "import matplotlib.ticker as ticker\n",
    "import matplotlib.cm as cm\n",
    "import matplotlib as mpl\n",
    "\n",
    "fig = plt.figure()\n",
    "fig, ax = plt.subplots(1,1,figsize=(15,15))\n",
    "heatmap = ax.imshow(fixedTimeScoreMatrix, cmap='BuPu')\n",
    "ax.set_xticklabels(np.append('', formattedTimeScore.hourofday.unique())) # columns\n",
    "ax.set_yticklabels(np.append('', formattedTimeScore.dayofweek.unique())) # index\n",
    "\n",
    "tick_spacing = 1\n",
    "ax.xaxis.set_major_locator(ticker.MultipleLocator(tick_spacing))\n",
    "ax.yaxis.set_major_locator(ticker.MultipleLocator(tick_spacing))\n",
    "ax.set_title(\"Time of Day Posted vs Average Score\")\n",
    "ax.set_xlabel('Time of Day Posted (EST)')\n",
    "ax.set_ylabel('Day of Week Posted')\n",
    "\n",
    "from mpl_toolkits.axes_grid1 import make_axes_locatable\n",
    "divider = make_axes_locatable(ax)\n",
    "cax = divider.append_axes(\"right\", \"3%\", pad=\"1%\")\n",
    "fig.colorbar(heatmap, cax=cax)\n",
    "plt.show()"
   ]
  },
  {
   "cell_type": "markdown",
   "metadata": {},
   "source": [
    "<center> <h2> Conclusion and More </h2> </center>\n",
    "\n",
    "<p>Reddit has grown to be an outstanding social media website, however many still do not know the trick to nailing down how to get their posts viewed and seen by the public. This project helped us learn so much more about the website and what kind of data is continuaously being drawn by third party websites. As you can see from this analysis, there are many factors that can put into a post on reddit that will ultimately decide how many views and upvotes one will get. We hope that this helps new Reddit users get a great jump on how to begin posting and what kind of times and amount of characters they shoudl be using based on the topic.\n",
    "\n",
    "If you are interested in Reddit and the many datasets to use, we recommend using Google's <a href =https://cloud.google.com/bigquery/docs/> BigQuery </a> and <a href=https://pushshift.io/>Pushshift</a>. This API consistently takes in data second by second, so we used only a select amount of data from 2016 to August of this year (2019). This tutorial was a minor fraction of the amount of data and things that can be done using Reddits data. We hope that others are inspired to do the same kind of tutorials, and we hope it was worth the read! </p>"
   ]
  },
  {
   "cell_type": "code",
   "execution_count": null,
   "metadata": {},
   "outputs": [],
   "source": []
  }
 ],
 "metadata": {
  "kernelspec": {
   "display_name": "Python 3",
   "language": "python",
   "name": "python3"
  },
  "language_info": {
   "codemirror_mode": {
    "name": "ipython",
    "version": 3
   },
   "file_extension": ".py",
   "mimetype": "text/x-python",
   "name": "python",
   "nbconvert_exporter": "python",
   "pygments_lexer": "ipython3",
   "version": "3.7.4"
  }
 },
 "nbformat": 4,
 "nbformat_minor": 2
}
