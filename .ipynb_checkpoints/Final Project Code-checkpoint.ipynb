{
 "cells": [
  {
   "cell_type": "markdown",
   "metadata": {},
   "source": [
    "<img src=\"https://miro.medium.com/max/3840/1*e3E0OQzfYCuWk0pket5dAA.png\" alt=\"Reddit Logo\" />\n",
    "<h1 style=\"font-size:36px;\">Post Title length VS Upvotes</h1>\n",
    "<h4>\n",
    "Authors: Andrew Paul, Chigozie Nna</h4>\n",
    "<hr>\n",
    "<body>\n",
    "<h1>Introduction </h1>\n",
    "    \n",
    "Reddit is an American social news aggregation, web content rating, and discussion website. Reddit originally created by two University of Virgina Students, Steven Huffman and Alexis Ohanian, in the year 2005. A year later Condé Nast Publications acquired the site as their own. Popularity in Reddit began to arise, as by 2007 NSFW, Programming, and Science where the the top trending subreddits of the time. By the year 2008, a launch of numerous different subreddits began to popularize the site, with Reddit being able to gain enough popularity to overtake Digg in search popularity by 2010. Reddit’s rise to fame did not stop there with, Reddit finally achieving a total of one billion page views per month in the year 2011. The goal of Reddit is for members to be able to submit content to the site in the form of links, text posts, and images, which can then be voted up or down by opposing members. The posts are categorized into items called “Subreddits” where users can share specific topics and/or interests that relate to the category at hand. Full details on it’s timeline and history can be viewed here.\n",
    "\n",
    "In this tutorial, our goal is to tidy up the data of posts within a years total, to provide us with knowledge into which what the amount of characters in a post cause the most effect in terms of up votes, down votes, score, and in general a reaction to the post. Post may vary in topics, arguments, time posted, and many more varieties, but we feel as if the popularity really depends on the length of characters used. We will be able to determine which length is just to short, and what length is long enough to bore an audience and not give the time to react to it. We hope to give enough information and analysis to provide, clarity, understanding and hopefully a new found interest to readers that are unfamiliar with the social foreground. Hopefully those who are frequent Reddit users, will gain some insight on how long they should make their posts if they are trying to gain more popularity.\n",
    "<body>\n",
    "<hr>\n",
    "<body>\n",
    "<h1 id=\"getting-started-with-the-data\">Getting started with the Data</h1>\n",
    "<p>We decided to use Python 3 and SQL to help gain and analyze our data. Crucial libraries used to help us where: <a href=\"https://towardsdatascience.com/a-quick-introduction-to-the-pandas-python-library-f1b678f34673\">pandas</a>, <a href=\"https://matplotlib.org/\">matplotlib</a>, <a href=\"https://python-graph-gallery.com/seaborn/\">seaborn</a>, and <a href=\"https://machinelearningmastery.com/a-gentle-introduction-to-scikit-learn-a-python-machine-learning-library/\">scikit-learn</a>.</p>\n",
    "</body>"
   ]
  },
  {
   "cell_type": "code",
   "execution_count": null,
   "metadata": {},
   "outputs": [],
   "source": [
    "import pandas as pd\n",
    "import matplotlib.pyplot as plt\n",
    "import numpy as np\n",
    "import seaborn as sns\n",
    "from sklearn import model_selection\n",
    "from sklearn import linear_model\n",
    "from sklearn import preprocessing\n",
    "from sklearn.preprocessing import LabelEncoder"
   ]
  },
  {
   "cell_type": "markdown",
   "metadata": {},
   "source": [
    "<body> We plan on using multiple panda dataframes that will be read in using SQL commands through googles BigQuery website.\n",
    "    \n",
    "<h2>Processing and Recieving data </h2>\n",
    "\n",
    "We used the following SQL command through Googles BigQuery to at first take data from a third party called <a href=https://pushshift.io/>\"Pushshift\"</a> that is a Reddit API that tracks almost all of Reddit's for the last few years. We are taking in data from 2016 to Augst 2019 due to the immense amount of data that is tracked.\n",
    "</body>"
   ]
  },
  {
   "cell_type": "markdown",
   "metadata": {},
   "source": [
    "<img src= \"https://i.imgur.com/xc6mlpA.png>\" alt= \"SQL Code\" width=\"400\"/>"
   ]
  },
  {
   "cell_type": "markdown",
   "metadata": {},
   "source": [
    "<body> In this SQL Query we are getting the length of every single title, averaging the score based on the length of the title, the average number of comments based on the length of the title, and the number of posts with that amount of characters. This is done by using the 'GROUP BY' command with SQL. BigQuery convertd this data into a <a href= https://www.howtogeek.com/348960/what-is-a-csv-file-and-how-do-i-open-it/>csv file</a>, which is a table or excel seperating the data by commas (,) making it easy to parse and split the data with.\n",
    "\n",
    "<h2> Reading the Data </h2>\n",
    "\n",
    "We will First use Pythons Pandas to read in the csv file and convert it into a panda <a href=https://www.geeksforgeeks.org/python-pandas-dataframe/>dataframe</a>, which is a two-dimensional size-mutable, potentially heterogeneous tabular data structure with labeled axes (rows and columns)"
   ]
  },
  {
   "cell_type": "code",
   "execution_count": 13,
   "metadata": {},
   "outputs": [
    {
     "data": {
      "text/html": [
       "<div>\n",
       "<style scoped>\n",
       "    .dataframe tbody tr th:only-of-type {\n",
       "        vertical-align: middle;\n",
       "    }\n",
       "\n",
       "    .dataframe tbody tr th {\n",
       "        vertical-align: top;\n",
       "    }\n",
       "\n",
       "    .dataframe thead th {\n",
       "        text-align: right;\n",
       "    }\n",
       "</style>\n",
       "<table border=\"1\" class=\"dataframe\">\n",
       "  <thead>\n",
       "    <tr style=\"text-align: right;\">\n",
       "      <th></th>\n",
       "      <th>length_title</th>\n",
       "      <th>avg_score</th>\n",
       "      <th>avg_comments</th>\n",
       "      <th>num_posts</th>\n",
       "    </tr>\n",
       "  </thead>\n",
       "  <tbody>\n",
       "    <tr>\n",
       "      <th>0</th>\n",
       "      <td>1</td>\n",
       "      <td>40.804163</td>\n",
       "      <td>1.789499</td>\n",
       "      <td>472705</td>\n",
       "    </tr>\n",
       "    <tr>\n",
       "      <th>1</th>\n",
       "      <td>2</td>\n",
       "      <td>65.521526</td>\n",
       "      <td>2.796440</td>\n",
       "      <td>739424</td>\n",
       "    </tr>\n",
       "    <tr>\n",
       "      <th>2</th>\n",
       "      <td>3</td>\n",
       "      <td>65.577614</td>\n",
       "      <td>3.039975</td>\n",
       "      <td>1361269</td>\n",
       "    </tr>\n",
       "    <tr>\n",
       "      <th>3</th>\n",
       "      <td>4</td>\n",
       "      <td>92.408734</td>\n",
       "      <td>3.559541</td>\n",
       "      <td>2588850</td>\n",
       "    </tr>\n",
       "    <tr>\n",
       "      <th>4</th>\n",
       "      <td>5</td>\n",
       "      <td>84.223042</td>\n",
       "      <td>3.203536</td>\n",
       "      <td>2210213</td>\n",
       "    </tr>\n",
       "    <tr>\n",
       "      <th>5</th>\n",
       "      <td>6</td>\n",
       "      <td>129.382588</td>\n",
       "      <td>3.370371</td>\n",
       "      <td>3850745</td>\n",
       "    </tr>\n",
       "    <tr>\n",
       "      <th>6</th>\n",
       "      <td>7</td>\n",
       "      <td>105.844544</td>\n",
       "      <td>3.985902</td>\n",
       "      <td>2858907</td>\n",
       "    </tr>\n",
       "    <tr>\n",
       "      <th>7</th>\n",
       "      <td>8</td>\n",
       "      <td>99.618349</td>\n",
       "      <td>4.208025</td>\n",
       "      <td>2939891</td>\n",
       "    </tr>\n",
       "    <tr>\n",
       "      <th>8</th>\n",
       "      <td>9</td>\n",
       "      <td>104.936504</td>\n",
       "      <td>4.531499</td>\n",
       "      <td>3818682</td>\n",
       "    </tr>\n",
       "    <tr>\n",
       "      <th>9</th>\n",
       "      <td>10</td>\n",
       "      <td>103.995719</td>\n",
       "      <td>4.758954</td>\n",
       "      <td>3773035</td>\n",
       "    </tr>\n",
       "  </tbody>\n",
       "</table>\n",
       "</div>"
      ],
      "text/plain": [
       "   length_title   avg_score  avg_comments  num_posts\n",
       "0             1   40.804163      1.789499     472705\n",
       "1             2   65.521526      2.796440     739424\n",
       "2             3   65.577614      3.039975    1361269\n",
       "3             4   92.408734      3.559541    2588850\n",
       "4             5   84.223042      3.203536    2210213\n",
       "5             6  129.382588      3.370371    3850745\n",
       "6             7  105.844544      3.985902    2858907\n",
       "7             8   99.618349      4.208025    2939891\n",
       "8             9  104.936504      4.531499    3818682\n",
       "9            10  103.995719      4.758954    3773035"
      ]
     },
     "execution_count": 13,
     "metadata": {},
     "output_type": "execute_result"
    }
   ],
   "source": [
    "data = pd.read_csv('LengthScoreComments.csv', sep=',')\n",
    "data[:10]"
   ]
  },
  {
   "cell_type": "markdown",
   "metadata": {},
   "source": [
    "In the DataFrame above you can see: \n",
    "   * length_title: Amount of Characters in the title\n",
    "   * avg_score: The average Score the post will recieve with character length\n",
    "   * avg_comments: The average amount of comments a post will recieve with character length\n",
    "   * num_posts: The Number of posts between 2016-Aug 2019 with character Length\n",
    "\n",
    "<hr size=\"20\">\n",
    "<body>\n",
    "<h2> Graphing</h2>\n",
    "\n",
    "In this first graph we will graph to see the relation between Length of Title verse the Average Score to see if there is a relation between if a reddit user will reciever more votes based on the character length of their post. This can help readers get an insight to how long they should make their posts if they desire to be the most popular reddit user of their peers.\n",
    "</body>"
   ]
  },
  {
   "cell_type": "code",
   "execution_count": 3,
   "metadata": {},
   "outputs": [
    {
     "data": {
      "image/png": "[encoded data removed]",
      "text/plain": [
       "<Figure size 432x288 with 1 Axes>"
      ]
     },
     "metadata": {
      "needs_background": "light"
     },
     "output_type": "display_data"
    }
   ],
   "source": [
    "plt.scatter(x = data['length_title'], y = data['avg_score'], s = data['num_posts']/200000)\n",
    "plt.title('Length of Post Title vs Average Score of Post')\n",
    "plt.xlabel('Length of Post Title (# of Characters)')\n",
    "plt.ylabel('Average Score of Post')\n",
    "plt.show()"
   ]
  },
  {
   "cell_type": "markdown",
   "metadata": {},
   "source": [
    "<body> We can see that there is a clear relation between the upvotes and the  number of characters in the post title. Based on the graph it seems that it is the best to have captions of Character lengths between 5-25 and 153-300+. The range most likely is based off the fact that the type of posts are farely different. There are many popular subreddits named short and quick things like \"meow\" to follow a trend that will be a picture of a cat that revieve many likes as long as they are following the trend. This Explains the peak and the downtrend of the number of likes as the posts begin to be normal and causal day to day type of posts. The number of UpVotes however does begin to rise again as the number of character are longer. This is because as the characters get longer, they tend to be actual issues and problems that recieve more views and reactions (ex: A president trump quote = more characters and responses).\n",
    "<body>\n",
    "\n",
    "<hr size=\"20\">\n",
    "\n",
    "<h2> Comments </h2>\n",
    "\n",
    "<p> We then decided to check if there was a relation between amount of comments verse the character length of the posts. People will place upvotes to anything they think is funny, however we wanted to see which posts actually get people commenting. Comments are what we deemed as true reactions to the posts, since it requires viewers to put in more effort than just a click for an upvote.</p>"
   ]
  },
  {
   "cell_type": "code",
   "execution_count": 8,
   "metadata": {},
   "outputs": [
    {
     "data": {
      "image/png": "[encoded data removed]",
      "text/plain": [
       "<Figure size 432x288 with 1 Axes>"
      ]
     },
     "metadata": {
      "needs_background": "light"
     },
     "output_type": "display_data"
    }
   ],
   "source": [
    "plot = plt.scatter(x = comments['length_title'], y = comments['avg_comments'], s = comments['num_posts']/200000)\n",
    "plt.title('Avg Number of Comments vs Length of Post title')\n",
    "plt.xlabel('Length of Post Title (# of Characters)')\n",
    "plt.ylabel('Average Comments')\n",
    "plt.show()"
   ]
  },
  {
   "cell_type": "markdown",
   "metadata": {},
   "source": [
    "<p>Based on the relation we are able to see that the Number of comments are actually greater based on the character length of the posts. A reasoning for this data is that the longer the character length in posts most likely mean, it is on a controversial topic, quote, or a scientific analysis that people are more likely to comment on and put their input. This is in contrast to small memes and jokes that will mostly recieve likes and not comments.</p>"
   ]
  },
  {
   "cell_type": "code",
   "execution_count": null,
   "metadata": {},
   "outputs": [],
   "source": [
    "#relation between score and title filtered()"
   ]
  }
 ],
 "metadata": {
  "kernelspec": {
   "display_name": "Python 3",
   "language": "python",
   "name": "python3"
  },
  "language_info": {
   "codemirror_mode": {
    "name": "ipython",
    "version": 3
   },
   "file_extension": ".py",
   "mimetype": "text/x-python",
   "name": "python",
   "nbconvert_exporter": "python",
   "pygments_lexer": "ipython3",
   "version": "3.7.3"
  }
 },
 "nbformat": 4,
 "nbformat_minor": 2
}
